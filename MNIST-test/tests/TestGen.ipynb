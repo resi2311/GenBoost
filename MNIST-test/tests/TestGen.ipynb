{
 "cells": [
  {
   "cell_type": "code",
   "execution_count": 15,
   "metadata": {},
   "outputs": [],
   "source": [
    "import itertools\n",
    "import pygmo as pg\n",
    "import re\n",
    "from pprint import pprint\n",
    "import numpy as np\n",
    "import copy\n",
    "import json"
   ]
  },
  {
   "cell_type": "code",
   "execution_count": 193,
   "metadata": {
    "collapsed": true
   },
   "outputs": [],
   "source": [
    "algo_names = ['de',\n",
    "              'sade',\n",
    "              'de1220',\n",
    "              'pso',\n",
    "              'pso_gen',\n",
    "              'sea',\n",
    "              'sga',\n",
    "              'simulated_annealing',\n",
    "              'bee_colony',\n",
    "              'xnes']"
   ]
  },
  {
   "cell_type": "code",
   "execution_count": 9,
   "metadata": {},
   "outputs": [],
   "source": [
    "def create_dct(keys,values,**kwargs):\n",
    "    dct = dict(zip(keys,values))\n",
    "    if 'ind_num' in kwargs.keys():\n",
    "        dct['ind_num'] = kwargs['ind_num']\n",
    "    return dct"
   ]
  },
  {
   "cell_type": "code",
   "execution_count": 10,
   "metadata": {},
   "outputs": [],
   "source": [
    "def product_dict(dct,**kwargs):\n",
    "    keys = list(dct.keys())\n",
    "    vals = list(dct.values())\n",
    "    if 'algo' in kwargs.keys():\n",
    "        keys.append('algo')\n",
    "        vals.append([kwargs['algo']])\n",
    "    return [dict(zip(keys, instance)) for instance in itertools.product(*vals)]"
   ]
  },
  {
   "cell_type": "code",
   "execution_count": 11,
   "metadata": {},
   "outputs": [],
   "source": [
    "def create_tests_template(aln):\n",
    "    algos_params = {}\n",
    "    for name in aln:\n",
    "        init = re.findall('\\(.*\\)',pg.__dict__[name].__doc__)[0]\n",
    "        params = list(map(str.strip,re.findall('[a-zA-Z_]*[a-zA-Z0-9][\\s=]',init)))\n",
    "        params = list(map(lambda s: s.replace('=',''),params))\n",
    "        #dct = create_dct(params,np.random.randint(0,10,(5,len(params))))\n",
    "        dct = create_dct(params,[[]]*len(params),ind_num=[])\n",
    "        algos_params[name] = dct\n",
    "    return algos_params"
   ]
  },
  {
   "cell_type": "code",
   "execution_count": 199,
   "metadata": {},
   "outputs": [],
   "source": [
    "algos_params = create_tests_template(algo_names)"
   ]
  },
  {
   "cell_type": "code",
   "execution_count": 200,
   "metadata": {},
   "outputs": [
    {
     "data": {
      "text/plain": [
       "{'bee_colony': {'gen': [], 'ind_num': [], 'limit': [], 'seed': []},\n",
       " 'de': {'CR': [],\n",
       "  'F': [],\n",
       "  'ftol': [],\n",
       "  'gen': [],\n",
       "  'ind_num': [],\n",
       "  'seed': [],\n",
       "  'variant': [],\n",
       "  'xtol': []},\n",
       " 'de1220': {'allowed_variants': [],\n",
       "  'ftol': [],\n",
       "  'gen': [],\n",
       "  'ind_num': [],\n",
       "  'memory': [],\n",
       "  'seed': [],\n",
       "  'variant_adptv': [],\n",
       "  'xtol': []},\n",
       " 'pso': {'eta1': [],\n",
       "  'eta2': [],\n",
       "  'gen': [],\n",
       "  'ind_num': [],\n",
       "  'max_vel': [],\n",
       "  'memory': [],\n",
       "  'neighb_param': [],\n",
       "  'neighb_type': [],\n",
       "  'omega': [],\n",
       "  'seed': [],\n",
       "  'variant': []},\n",
       " 'pso_gen': {'eta1': [],\n",
       "  'eta2': [],\n",
       "  'gen': [],\n",
       "  'ind_num': [],\n",
       "  'max_vel': [],\n",
       "  'memory': [],\n",
       "  'neighb_param': [],\n",
       "  'neighb_type': [],\n",
       "  'omega': [],\n",
       "  'seed': [],\n",
       "  'variant': []},\n",
       " 'sade': {'ftol': [],\n",
       "  'gen': [],\n",
       "  'ind_num': [],\n",
       "  'memory': [],\n",
       "  'seed': [],\n",
       "  'variant': [],\n",
       "  'variant_adptv': [],\n",
       "  'xtol': []},\n",
       " 'sea': {'gen': [], 'ind_num': [], 'seed': []},\n",
       " 'sga': {'cr': [],\n",
       "  'crossover': [],\n",
       "  'eta_c': [],\n",
       "  'gen': [],\n",
       "  'ind_num': [],\n",
       "  'm': [],\n",
       "  'mutation': [],\n",
       "  'param_m': [],\n",
       "  'param_s': [],\n",
       "  'seed': [],\n",
       "  'selection': []},\n",
       " 'simulated_annealing': {'Tf': [],\n",
       "  'Ts': [],\n",
       "  'bin_size': [],\n",
       "  'ind_num': [],\n",
       "  'n_T_adj': [],\n",
       "  'n_range_adj': [],\n",
       "  'seed': [],\n",
       "  'start_range': []},\n",
       " 'xnes': {'eta_b': [],\n",
       "  'eta_mu': [],\n",
       "  'eta_sigma': [],\n",
       "  'force_bounds': [],\n",
       "  'ftol': [],\n",
       "  'gen': [],\n",
       "  'ind_num': [],\n",
       "  'memory': [],\n",
       "  'seed': [],\n",
       "  'sigma0': [],\n",
       "  'xtol': []}}"
      ]
     },
     "execution_count": 200,
     "metadata": {},
     "output_type": "execute_result"
    }
   ],
   "source": [
    "algos_params"
   ]
  },
  {
   "cell_type": "code",
   "execution_count": 13,
   "metadata": {},
   "outputs": [
    {
     "data": {
      "text/plain": [
       "16000"
      ]
     },
     "execution_count": 13,
     "metadata": {},
     "output_type": "execute_result"
    }
   ],
   "source": [
    "10*10*4*4*10"
   ]
  },
  {
   "cell_type": "code",
   "execution_count": 153,
   "metadata": {},
   "outputs": [],
   "source": [
    "#product_dict(algos_params['bee_colony'],algo = 'bee_colony')"
   ]
  },
  {
   "cell_type": "code",
   "execution_count": 36,
   "metadata": {},
   "outputs": [
    {
     "data": {
      "text/plain": [
       "pygmo.core.sga"
      ]
     },
     "execution_count": 36,
     "metadata": {},
     "output_type": "execute_result"
    }
   ],
   "source": [
    "pg.__dict__['sga']"
   ]
  },
  {
   "cell_type": "code",
   "execution_count": 1,
   "metadata": {},
   "outputs": [],
   "source": [
    "def arange(start,stop):\n",
    "    return [i for i in range(start,stop)]"
   ]
  },
  {
   "cell_type": "code",
   "execution_count": 4,
   "metadata": {},
   "outputs": [],
   "source": [
    "algos_params = \\\n",
    "{'bee_colony': {'gen': [],\n",
    "              'ind_num': [],\n",
    "              'limit': [1,2,3],\n",
    "              'seed': []},\n",
    " 'de': {'CR': np.linspace(0.01,0.5,15),\n",
    "          'F': np.linspace(0.01,0.5,15),\n",
    "          'ftol': [1e-4],\n",
    "          'gen': [],\n",
    "          'ind_num': [],\n",
    "          'seed': [],\n",
    "          'variant': np.arange(1,11),\n",
    "          'xtol': [1e-4]},\n",
    " 'de1220': {'allowed_variants': [[2,3,7,10,13,14,15,16],[1,4,5,6,8,9,11,12,17,18]],\n",
    "          'ftol': [1e-4],\n",
    "          'gen': [],\n",
    "          'ind_num': [],\n",
    "          'memory': [True,False],\n",
    "          'seed': [],\n",
    "          'variant_adptv': [1,2],\n",
    "          'xtol': [1e-4]},\n",
    " 'pso': {'eta1': [2.05,1.5,1.05,2.5],\n",
    "          'eta2': [2.05,1.5,1.05,2.5],\n",
    "          'gen': [],\n",
    "          'ind_num': [],\n",
    "          'max_vel': np.arange(0.05,6.05,0.05),\n",
    "          'memory': [True,False],\n",
    "          'neighb_param': arange(2,7),\n",
    "          'neighb_type': arange(1,5),\n",
    "          'omega': np.linspace(0.05,0.95,10),\n",
    "          'seed': [],\n",
    "          'variant': arange(1,7)},\n",
    " 'pso_gen': {'eta1': [2.05,1.5,1.05,2.5],\n",
    "          'eta2': [2.05,1.5,1.05,2.5],\n",
    "          'gen': [],\n",
    "          'ind_num': [],\n",
    "          'max_vel': np.arange(0.05,6.05,0.05),\n",
    "          'memory': [True,False],\n",
    "          'neighb_param': np.arange(2,7),\n",
    "          'neighb_type': np.arange(1,5),\n",
    "          'omega':  np.linspace(0.05,0.95,10),\n",
    "          'seed': [],\n",
    "          'variant': np.arange(1,7)},\n",
    " 'sade': {'ftol': [1e-4],\n",
    "          'gen': [],\n",
    "          'ind_num': [],\n",
    "          'memory': [True,False],\n",
    "          'seed': [],\n",
    "          'variant': np.arange(1,19),\n",
    "          'variant_adptv': [1,3],\n",
    "          'xtol': [1e-4]},\n",
    " 'sea': {'gen': [],\n",
    "         'ind_num': [],\n",
    "         'seed': []},\n",
    " 'sga': {'cr': np.linspace(0.01,0.5,15),\n",
    "          'crossover': ['exponential', 'binomial', 'single','sbx'],\n",
    "          'eta_c': [1.],\n",
    "          'gen': [],\n",
    "          'ind_num': [],\n",
    "          'm': np.linspace(0.01,0.5,15),\n",
    "          'mutation': ['gaussian', 'polynomial' , 'uniform'],\n",
    "          'param_m': [1.],\n",
    "          'param_s': [2.],\n",
    "          'seed': [],\n",
    "          'selection': ['tournament', 'truncated']},\n",
    " 'simulated_annealing': {'Tf': [1.],\n",
    "          'Ts': np.arange(5,35,5),\n",
    "          'bin_size': [5,10,15],\n",
    "          'ind_num': [],\n",
    "          'n_T_adj': [5,10,15],\n",
    "          'n_range_adj': [5,10,15],\n",
    "          'seed': [],\n",
    "          'start_range': []},\n",
    " 'xnes': {'eta_b': [-1],\n",
    "          'eta_mu': np.arange(0.05,0.95,15),\n",
    "          'eta_sigma': [-1],\n",
    "          'force_bounds': [True,False],\n",
    "          'ftol': [1e-4],\n",
    "          'gen': [],\n",
    "          'ind_num': [],\n",
    "          'memory': [True,False],\n",
    "          'seed': [],\n",
    "          'sigma0': [-1],\n",
    "          'xtol': [1e-4]}}"
   ]
  },
  {
   "cell_type": "code",
   "execution_count": 5,
   "metadata": {},
   "outputs": [],
   "source": [
    "for key in algos_params.keys():\n",
    "    algos_params[key]['gen'] = [100]\n",
    "    algos_params[key]['ind_num'] = [50]\n",
    "    algos_params[key]['seed'] = [5679]"
   ]
  },
  {
   "cell_type": "code",
   "execution_count": 6,
   "metadata": {},
   "outputs": [],
   "source": [
    "pso = copy.copy(algos_params['pso'])\n",
    "pso['omega']  = [0.7298]\n",
    "pso['eta1'] = [2.05]\n",
    "pso['eta2'] = [2.05]\n",
    "pso['max_vel'] = [0.5]"
   ]
  },
  {
   "cell_type": "code",
   "execution_count": 7,
   "metadata": {},
   "outputs": [],
   "source": [
    "bc = copy.copy(algos_params['bee_colony'])"
   ]
  },
  {
   "cell_type": "code",
   "execution_count": 12,
   "metadata": {},
   "outputs": [],
   "source": [
    "bc_tests = product_dict(bc,algo = 'bee_colony')"
   ]
  },
  {
   "cell_type": "code",
   "execution_count": 13,
   "metadata": {},
   "outputs": [
    {
     "data": {
      "text/plain": [
       "[{'gen': 100, 'ind_num': 50, 'limit': 1, 'seed': 5679, 'algo': 'bee_colony'},\n",
       " {'gen': 100, 'ind_num': 50, 'limit': 2, 'seed': 5679, 'algo': 'bee_colony'},\n",
       " {'gen': 100, 'ind_num': 50, 'limit': 3, 'seed': 5679, 'algo': 'bee_colony'}]"
      ]
     },
     "execution_count": 13,
     "metadata": {},
     "output_type": "execute_result"
    }
   ],
   "source": [
    "bc_tests"
   ]
  },
  {
   "cell_type": "code",
   "execution_count": 17,
   "metadata": {
    "scrolled": false
   },
   "outputs": [],
   "source": [
    "json.dump(bc_tests,open('bc_tests.json','w',encoding=\"utf-8\", newline='\\r\\n'),indent=4)"
   ]
  },
  {
   "cell_type": "code",
   "execution_count": 18,
   "metadata": {},
   "outputs": [],
   "source": [
    "pso_tests = list(filter(lambda x: x['gen'] > x['ind_num'],product_dict(pso,algo='pso')))"
   ]
  },
  {
   "cell_type": "code",
   "execution_count": 19,
   "metadata": {},
   "outputs": [
    {
     "data": {
      "text/plain": [
       "240"
      ]
     },
     "execution_count": 19,
     "metadata": {},
     "output_type": "execute_result"
    }
   ],
   "source": [
    "len(pso_tests)"
   ]
  },
  {
   "cell_type": "code",
   "execution_count": 21,
   "metadata": {
    "scrolled": false
   },
   "outputs": [],
   "source": [
    "json.dump(pso_tests,open('pso_tests.json','w',encoding=\"utf-8\", newline='\\r\\n'),indent=4)"
   ]
  },
  {
   "cell_type": "code",
   "execution_count": 132,
   "metadata": {},
   "outputs": [],
   "source": [
    "dct = pso_tests[0]"
   ]
  },
  {
   "cell_type": "code",
   "execution_count": null,
   "metadata": {},
   "outputs": [],
   "source": []
  }
 ],
 "metadata": {
  "anaconda-cloud": {},
  "kernelspec": {
   "display_name": "Python 3",
   "language": "python",
   "name": "python3"
  },
  "language_info": {
   "codemirror_mode": {
    "name": "ipython",
    "version": 3
   },
   "file_extension": ".py",
   "mimetype": "text/x-python",
   "name": "python",
   "nbconvert_exporter": "python",
   "pygments_lexer": "ipython3",
   "version": "3.6.6"
  }
 },
 "nbformat": 4,
 "nbformat_minor": 1
}
