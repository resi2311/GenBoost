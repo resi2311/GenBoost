{
 "cells": [
  {
   "cell_type": "code",
   "execution_count": 1,
   "metadata": {},
   "outputs": [],
   "source": [
    "import numpy as np\n",
    "import glob\n",
    "from multiprocessing import Pool\n",
    "import tensorflow as tf\n",
    "import scipy.stats\n",
    "import matplotlib.pyplot as plt\n",
    "from IPython.display import clear_output\n",
    "%matplotlib inline"
   ]
  },
  {
   "cell_type": "code",
   "execution_count": 2,
   "metadata": {},
   "outputs": [],
   "source": [
    "def gauss(x, mu, sigma):\n",
    "    A = 1/(sigma*np.sqrt(2*np.pi))\n",
    "    return A*np.exp(-np.power(x-mu,2)/(2*sigma**2))"
   ]
  },
  {
   "cell_type": "code",
   "execution_count": 3,
   "metadata": {},
   "outputs": [],
   "source": [
    "def bimodal(x, mu1, mu2, sigma1, sigma2):\n",
    "    return (gauss(x, mu1, sigma1) + gauss(x, mu2, sigma2))/2"
   ]
  },
  {
   "cell_type": "code",
   "execution_count": 29,
   "metadata": {},
   "outputs": [
    {
     "data": {
      "text/plain": [
       "[<matplotlib.lines.Line2D at 0x7f135cb49e48>]"
      ]
     },
     "execution_count": 29,
     "metadata": {},
     "output_type": "execute_result"
    },
    {
     "data": {
      "image/png": "[encoded data removed]",
      "text/plain": [
       "<matplotlib.figure.Figure at 0x7f135cfa7b38>"
      ]
     },
     "metadata": {},
     "output_type": "display_data"
    }
   ],
   "source": [
    "plt.plot(np.linspace(-10,10,1000), bimodal(np.linspace(-10,10,1000),-2, 2, 1, 1))"
   ]
  },
  {
   "cell_type": "code",
   "execution_count": 4,
   "metadata": {},
   "outputs": [],
   "source": [
    "class Bimodal(scipy.stats.rv_continuous):\n",
    "    def __init__(self, mu1, mu2, sigma1, sigma2):\n",
    "        self.params = (mu1, mu2, sigma1, sigma2)\n",
    "        super(Bimodal, self).__init__()\n",
    "    def _pdf(self, x):\n",
    "        return bimodal(x, *self.params)"
   ]
  },
  {
   "cell_type": "code",
   "execution_count": 5,
   "metadata": {},
   "outputs": [],
   "source": [
    "bi = Bimodal(-2, 2, 1, 1)"
   ]
  },
  {
   "cell_type": "code",
   "execution_count": 6,
   "metadata": {},
   "outputs": [],
   "source": [
    "data = bi.rvs(size=1000)"
   ]
  },
  {
   "cell_type": "code",
   "execution_count": 7,
   "metadata": {},
   "outputs": [
    {
     "data": {
      "image/png": "[encoded data removed]",
      "text/plain": [
       "<Figure size 432x288 with 1 Axes>"
      ]
     },
     "metadata": {
      "needs_background": "light"
     },
     "output_type": "display_data"
    }
   ],
   "source": [
    "plt.hist(data, 200);"
   ]
  },
  {
   "cell_type": "code",
   "execution_count": 4,
   "metadata": {},
   "outputs": [],
   "source": [
    "dataset = np.empty([0,1])\n",
    "for elem in glob.glob('dataset/*.npy'):\n",
    "    data = np.load(elem)\n",
    "    dataset = np.append(dataset, data)"
   ]
  },
  {
   "cell_type": "code",
   "execution_count": 15,
   "metadata": {},
   "outputs": [],
   "source": [
    "dataset = dataset.reshape(-1,1)"
   ]
  },
  {
   "cell_type": "code",
   "execution_count": 16,
   "metadata": {},
   "outputs": [
    {
     "data": {
      "text/plain": [
       "(2560000, 1)"
      ]
     },
     "execution_count": 16,
     "metadata": {},
     "output_type": "execute_result"
    }
   ],
   "source": [
    "dataset.shape"
   ]
  },
  {
   "cell_type": "code",
   "execution_count": 5,
   "metadata": {},
   "outputs": [],
   "source": [
    "batch_size = 64\n",
    "updates = 40000\n",
    "learning_rate = 0.01\n",
    "noise_range = 5"
   ]
  },
  {
   "cell_type": "code",
   "execution_count": 30,
   "metadata": {},
   "outputs": [],
   "source": [
    "tf.reset_default_graph()"
   ]
  },
  {
   "cell_type": "code",
   "execution_count": 31,
   "metadata": {},
   "outputs": [],
   "source": [
    "gen_weights = dict()\n",
    "gen_weights['w1'] = tf.Variable(tf.random_normal([1,5]))\n",
    "gen_weights['b1'] = tf.Variable(tf.random_normal([5]))\n",
    "gen_weights['w2'] = tf.Variable(tf.random_normal([5,1]))\n",
    "gen_weights['b2'] = tf.Variable(tf.random_normal([1]))\n",
    "\n",
    "disc_weights = dict()\n",
    "disc_weights['w1'] = tf.Variable(tf.random_normal([1,10]))\n",
    "disc_weights['b1'] = tf.Variable(tf.random_normal([10]))\n",
    "disc_weights['w2'] = tf.Variable(tf.random_normal([10,10]))\n",
    "disc_weights['b2'] = tf.Variable(tf.random_normal([10]))\n",
    "disc_weights['w3'] = tf.Variable(tf.random_normal([10,1]))\n",
    "disc_weights['b3'] = tf.Variable(tf.random_normal([1]))\n",
    "\n",
    "z_p = tf.placeholder('float', [None, 1])\n",
    "x_d = tf.placeholder('float', [None, 1])\n",
    "\n",
    "g_h = tf.nn.softplus(tf.add(\n",
    "           tf.matmul(z_p, gen_weights['w1']),gen_weights['b1']))\n",
    "x_g = tf.add(tf.matmul(g_h, gen_weights['w2']), gen_weights['b2'])\n",
    "\n",
    "def discriminator(x):\n",
    "    d_h1 = tf.nn.tanh(tf.add(\n",
    "        tf.matmul(x, disc_weights['w1']), disc_weights['b1']))\n",
    "    d_h2 = tf.nn.tanh(tf.add(\n",
    "        tf.matmul(d_h1, disc_weights['w2']),disc_weights['b2']))\n",
    "    score = tf.nn.sigmoid(tf.add(\n",
    "        tf.matmul(d_h2, disc_weights['w3']), disc_weights['b3']))\n",
    "    return score\n",
    "\n",
    "x_data_score = discriminator(x_d)\n",
    "x_gen_score = discriminator(x_g)\n",
    "\n",
    "D_cost = -tf.reduce_mean(tf.log(x_data_score) + tf.log(1.0 - x_gen_score))\n",
    "G_cost = tf.reduce_mean(tf.log(1.0 - x_gen_score))\n",
    "\n",
    "optimizer = tf.train.GradientDescentOptimizer(learning_rate)\n",
    "D_optimizer = optimizer.minimize(D_cost, var_list=list(disc_weights.values()))\n",
    "G_optimizer = optimizer.minimize(G_cost, var_list=list(gen_weights.values()))"
   ]
  },
  {
   "cell_type": "code",
   "execution_count": 29,
   "metadata": {},
   "outputs": [],
   "source": [
    "def sample_z(size=batch_size):\n",
    "    return np.random.uniform(-noise_range, noise_range, size=[size,1])\n",
    "def sample_x(size=batch_size):\n",
    "    return np.random.normal(size=[size, 1])"
   ]
  },
  {
   "cell_type": "code",
   "execution_count": 32,
   "metadata": {},
   "outputs": [],
   "source": [
    "sess = tf.Session()\n",
    "saver = tf.train.Saver()"
   ]
  },
  {
   "cell_type": "code",
   "execution_count": 33,
   "metadata": {},
   "outputs": [],
   "source": [
    "init = tf.global_variables_initializer()\n",
    "sess.run(init)"
   ]
  },
  {
   "cell_type": "code",
   "execution_count": 34,
   "metadata": {},
   "outputs": [
    {
     "name": "stdout",
     "output_type": "stream",
     "text": [
      "Update #39999\n"
     ]
    }
   ],
   "source": [
    "for i in range(updates):\n",
    "    print('Update #{}'.format(i))\n",
    "    clear_output(wait=True)\n",
    "    z_batch = sample_z()\n",
    "    x_batch = sample_x()#dataset[i*batch_size:batch_size*(i+1)]\n",
    "    sess.run(D_optimizer, feed_dict={z_p: z_batch, x_d: x_batch})\n",
    "    z_batch = sample_z()\n",
    "    sess.run(G_optimizer, feed_dict={z_p: z_batch})"
   ]
  },
  {
   "cell_type": "code",
   "execution_count": 19,
   "metadata": {},
   "outputs": [
    {
     "data": {
      "text/plain": [
       "'./model.ckpt'"
      ]
     },
     "execution_count": 19,
     "metadata": {},
     "output_type": "execute_result"
    }
   ],
   "source": [
    "#saver.save(sess, './model.ckpt')"
   ]
  },
  {
   "cell_type": "code",
   "execution_count": 12,
   "metadata": {},
   "outputs": [
    {
     "name": "stdout",
     "output_type": "stream",
     "text": [
      "INFO:tensorflow:Restoring parameters from model.ckpt\n"
     ]
    }
   ],
   "source": [
    "#saver.restore(sess, 'model.ckpt')"
   ]
  },
  {
   "cell_type": "code",
   "execution_count": 35,
   "metadata": {},
   "outputs": [],
   "source": [
    "out_data = x_g.eval(feed_dict={z_p: sample_z(10000)}, session=sess)"
   ]
  },
  {
   "cell_type": "code",
   "execution_count": 28,
   "metadata": {},
   "outputs": [
    {
     "data": {
      "image/png": "[encoded data removed]",
      "text/plain": [
       "<Figure size 432x288 with 1 Axes>"
      ]
     },
     "metadata": {
      "needs_background": "light"
     },
     "output_type": "display_data"
    }
   ],
   "source": [
    "plt.hist(dataset, 200);"
   ]
  },
  {
   "cell_type": "code",
   "execution_count": 36,
   "metadata": {},
   "outputs": [
    {
     "data": {
      "image/png": "[encoded data removed]",
      "text/plain": [
       "<Figure size 432x288 with 1 Axes>"
      ]
     },
     "metadata": {
      "needs_background": "light"
     },
     "output_type": "display_data"
    }
   ],
   "source": [
    "plt.hist(out_data, 200);"
   ]
  },
  {
   "cell_type": "code",
   "execution_count": 37,
   "metadata": {},
   "outputs": [],
   "source": [
    "np.save('dataset/dataset.npy', dataset)"
   ]
  },
  {
   "cell_type": "code",
   "execution_count": null,
   "metadata": {},
   "outputs": [],
   "source": []
  }
 ],
 "metadata": {
  "anaconda-cloud": {},
  "kernelspec": {
   "display_name": "Python 3",
   "language": "python",
   "name": "python3"
  },
  "language_info": {
   "codemirror_mode": {
    "name": "ipython",
    "version": 3
   },
   "file_extension": ".py",
   "mimetype": "text/x-python",
   "name": "python",
   "nbconvert_exporter": "python",
   "pygments_lexer": "ipython3",
   "version": "3.6.6"
  }
 },
 "nbformat": 4,
 "nbformat_minor": 1
}
